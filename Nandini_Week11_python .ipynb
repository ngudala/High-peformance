{
  "nbformat": 4,
  "nbformat_minor": 0,
  "metadata": {
    "colab": {
      "provenance": []
    },
    "kernelspec": {
      "name": "python3",
      "display_name": "Python 3"
    },
    "language_info": {
      "name": "python"
    }
  },
  "cells": [
    {
      "cell_type": "code",
      "execution_count": 2,
      "metadata": {
        "id": "o7z2PvR91wMb"
      },
      "outputs": [],
      "source": [
        "import pandas as pd\n",
        "import numpy as np\n",
        "import time\n",
        "from sklearn.model_selection import cross_val_score, KFold\n",
        "from sklearn.metrics import accuracy_score, roc_auc_score\n",
        "from xgboost import XGBClassifier\n",
        "from sklearn.preprocessing import StandardScaler"
      ]
    },
    {
      "cell_type": "code",
      "source": [
        "data = pd.read_csv(\"data_week11.csv\")"
      ],
      "metadata": {
        "id": "F8C9auUF3OcQ"
      },
      "execution_count": 3,
      "outputs": []
    },
    {
      "cell_type": "code",
      "source": [
        "X = data.iloc[:, :-1]\n",
        "y = data.iloc[:, -1]"
      ],
      "metadata": {
        "id": "sE7g5sJ13pIi"
      },
      "execution_count": 5,
      "outputs": []
    },
    {
      "cell_type": "code",
      "source": [
        "# Function to train and evaluate model for different dataset sizes\n",
        "def evaluate_model_size(X, y, sizes=[100, 1000, 10000, 100000, 1000000, 10000000]):\n",
        "    results = []\n",
        "\n",
        "    # For each dataset size\n",
        "    for size in sizes:\n",
        "        # If we have enough data\n",
        "        if size <= len(X):\n",
        "            print(f\"\\nEvaluating with {size} samples...\")\n",
        "\n",
        "            # Sample the data\n",
        "            indices = np.random.choice(len(X), size=size, replace=False)\n",
        "            X_sample = X.iloc[indices]\n",
        "            y_sample = y.iloc[indices]\n",
        "\n",
        "            # Scale features\n",
        "            scaler = StandardScaler()\n",
        "            X_scaled = scaler.fit_transform(X_sample)\n",
        "\n",
        "            # Create model\n",
        "            model = XGBClassifier(\n",
        "                n_estimators=100,\n",
        "                learning_rate=0.1,\n",
        "                max_depth=3,\n",
        "                random_state=42\n",
        "            )\n",
        "\n",
        "            # Set up 5-fold CV\n",
        "            kf = KFold(n_splits=5, shuffle=True, random_state=42)\n",
        "\n",
        "            # Initialize arrays to store accuracy and AUC scores\n",
        "            accuracies = []\n",
        "            auc_scores = []\n",
        "\n",
        "            # Measure time for the entire process\n",
        "            start_time = time.time()\n",
        "\n",
        "            # Perform 5-fold cross-validation manually\n",
        "            for train_idx, test_idx in kf.split(X_scaled):\n",
        "                # Split data into train and test sets\n",
        "                X_train, X_test = X_scaled[train_idx], X_scaled[test_idx]\n",
        "                y_train, y_test = y_sample.iloc[train_idx], y_sample.iloc[test_idx]\n",
        "\n",
        "                # Fit model\n",
        "                model.fit(X_train, y_train)\n",
        "\n",
        "                # Make predictions\n",
        "                y_pred = model.predict(X_test)\n",
        "                y_pred_proba = model.predict_proba(X_test)[:, 1]\n",
        "\n",
        "                # Calculate metrics\n",
        "                acc = accuracy_score(y_test, y_pred)\n",
        "                auc = roc_auc_score(y_test, y_pred_proba)\n",
        "\n",
        "                # Store metrics\n",
        "                accuracies.append(acc)\n",
        "                auc_scores.append(auc)\n",
        "\n",
        "            end_time = time.time()\n",
        "            time_taken = end_time - start_time\n",
        "\n",
        "            # Calculate average metrics\n",
        "            avg_accuracy = np.mean(accuracies)\n",
        "            avg_auc = np.mean(auc_scores)\n",
        "\n",
        "            # Store results\n",
        "            results.append({\n",
        "                'Dataset size': size,\n",
        "                'Test accuracy': avg_accuracy,\n",
        "                'Testing-set predictive performance (AUC)': avg_auc,\n",
        "                'Time taken (seconds)': time_taken\n",
        "            })\n",
        "\n",
        "            print(f\"Test Accuracy: {avg_accuracy:.4f}\")\n",
        "            print(f\"AUC Score: {avg_auc:.4f}\")\n",
        "            print(f\"Time taken: {time_taken:.2f} seconds\")\n",
        "        else:\n",
        "            print(f\"Skipping size {size} - not enough data\")\n",
        "            results.append({\n",
        "                'Dataset size': size,\n",
        "                'Test accuracy': None,\n",
        "                'Testing-set predictive performance (AUC)': None,\n",
        "                'Time taken (seconds)': None\n",
        "            })\n",
        "\n",
        "    # Create a DataFrame with the results\n",
        "    results_df = pd.DataFrame(results)\n",
        "    return results_df\n",
        "\n",
        "# Run the evaluation\n",
        "sizes_to_evaluate = [100, 1000, 10000, 100000, 1000000, 10000000]\n",
        "results_table = evaluate_model_size(X, y, sizes=sizes_to_evaluate)\n",
        "\n",
        "# Display the results in a formatted table\n",
        "print(\"\\nResults Summary:\")\n",
        "print(results_table.to_string(index=False))"
      ],
      "metadata": {
        "colab": {
          "base_uri": "https://localhost:8080/"
        },
        "id": "HJ1JZHQn3WQW",
        "outputId": "34146fdd-967b-45f3-e42d-48d69c7fb486"
      },
      "execution_count": 6,
      "outputs": [
        {
          "output_type": "stream",
          "name": "stdout",
          "text": [
            "\n",
            "Evaluating with 100 samples...\n",
            "Test Accuracy: 0.9200\n",
            "AUC Score: 0.9480\n",
            "Time taken: 0.14 seconds\n",
            "\n",
            "Evaluating with 1000 samples...\n",
            "Test Accuracy: 0.9470\n",
            "AUC Score: 0.9881\n",
            "Time taken: 0.22 seconds\n",
            "\n",
            "Evaluating with 10000 samples...\n",
            "Test Accuracy: 0.9646\n",
            "AUC Score: 0.9948\n",
            "Time taken: 0.45 seconds\n",
            "\n",
            "Evaluating with 100000 samples...\n",
            "Test Accuracy: 0.9711\n",
            "AUC Score: 0.9966\n",
            "Time taken: 6.84 seconds\n",
            "\n",
            "Evaluating with 1000000 samples...\n",
            "Test Accuracy: 0.9713\n",
            "AUC Score: 0.9969\n",
            "Time taken: 29.31 seconds\n",
            "\n",
            "Evaluating with 10000000 samples...\n",
            "Test Accuracy: 0.9716\n",
            "AUC Score: 0.9970\n",
            "Time taken: 303.24 seconds\n",
            "\n",
            "Results Summary:\n",
            " Dataset size  Test accuracy  Testing-set predictive performance (AUC)  Time taken (seconds)\n",
            "          100       0.920000                                  0.947984              0.143890\n",
            "         1000       0.947000                                  0.988125              0.218498\n",
            "        10000       0.964600                                  0.994848              0.449722\n",
            "       100000       0.971140                                  0.996646              6.842874\n",
            "      1000000       0.971296                                  0.996893             29.311242\n",
            "     10000000       0.971607                                  0.996966            303.236988\n"
          ]
        }
      ]
    }
  ]
}