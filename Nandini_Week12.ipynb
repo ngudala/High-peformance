{
  "nbformat": 4,
  "nbformat_minor": 0,
  "metadata": {
    "colab": {
      "provenance": []
    },
    "kernelspec": {
      "name": "python3",
      "display_name": "Python 3"
    },
    "language_info": {
      "name": "python"
    }
  },
  "cells": [
    {
      "cell_type": "code",
      "execution_count": 2,
      "metadata": {
        "id": "6PsKVH__Py1w"
      },
      "outputs": [],
      "source": [
        "import pandas as pd\n",
        "import numpy as np\n",
        "from sklearn.model_selection import train_test_split\n",
        "from sklearn.preprocessing import StandardScaler\n",
        "from sklearn.neural_network import MLPClassifier\n",
        "from sklearn.metrics import accuracy_score\n",
        "import time"
      ]
    },
    {
      "cell_type": "code",
      "source": [
        "data = pd.read_csv(\"data_week11.csv\")\n",
        "X = data.drop('outcome', axis=1)\n",
        "y = data['outcome']\n",
        "results = {}\n",
        "\n",
        "def train_evaluate(data_size, hidden_layer_sizes, random_state=42):\n",
        "    if len(X) > data_size:\n",
        "        X_sample, _, y_sample, _ = train_test_split(X, y, train_size=data_size, random_state=random_state)\n",
        "    else:\n",
        "        X_sample, y_sample = X, y\n",
        "    X_train, X_val, y_train, y_val = train_test_split(X_sample, y_sample, test_size=0.2, random_state=random_state)\n",
        "\n",
        "    scaler = StandardScaler()\n",
        "    X_train_scaled = scaler.fit_transform(X_train)\n",
        "    X_val_scaled = scaler.transform(X_val)\n",
        "\n",
        "    model = MLPClassifier(\n",
        "        hidden_layer_sizes=hidden_layer_sizes,\n",
        "        max_iter=300,\n",
        "        early_stopping=True,\n",
        "        random_state=random_state\n",
        "    )\n",
        "\n",
        "    start_time = time.time()\n",
        "    model.fit(X_train_scaled, y_train)\n",
        "    end_time = time.time()\n",
        "\n",
        "    train_predictions = model.predict(X_train_scaled)\n",
        "    val_predictions = model.predict(X_val_scaled)\n",
        "\n",
        "    train_error = 1 - accuracy_score(y_train, train_predictions)\n",
        "    val_error = 1 - accuracy_score(y_val, val_predictions)\n",
        "    execution_time = end_time - start_time\n",
        "\n",
        "    return {\n",
        "        \"train_error\": round(train_error, 4),\n",
        "        \"val_error\": round(val_error, 4),\n",
        "        \"execution_time\": round(execution_time, 2)\n",
        "    }\n",
        "\n",
        "configs = [\n",
        "    (1000, (4,)),\n",
        "    (10000, (4,)),\n",
        "    (100000, (4,)),\n",
        "    (1000, (4, 4)),\n",
        "    (10000, (4, 4)),\n",
        "    (100000, (4, 4))\n",
        "]\n",
        "\n",
        "for data_size, hidden_layers in configs:\n",
        "    key = f\"{data_size}_{hidden_layers}\"\n",
        "    results[key] = train_evaluate(data_size, hidden_layers)\n",
        "    print(f\"Completed: {data_size} samples, {hidden_layers} hidden layers\")\n",
        "    print(f\"Train error: {results[key]['train_error']}\")\n",
        "    print(f\"Validation error: {results[key]['val_error']}\")\n",
        "    print(f\"Execution time: {results[key]['execution_time']} seconds\")\n",
        "    print(\"-\" * 40)\n",
        "\n",
        "print(\"\\nResults Table:\")\n",
        "print(\"Data size | Configuration | Training error | Validation error | Time of execution\")\n",
        "print(\"-\" * 80)\n",
        "\n",
        "for data_size, hidden_layers in configs:\n",
        "    key = f\"{data_size}_{hidden_layers}\"\n",
        "    config_name = \"1 hidden layer 4 nodes\" if len(hidden_layers) == 1 else \"2 hidden layers of 4 nodes each\"\n",
        "    print(f\"{data_size} | {config_name} | {results[key]['train_error']} | {results[key]['val_error']} | {results[key]['execution_time']} sec\")"
      ],
      "metadata": {
        "colab": {
          "base_uri": "https://localhost:8080/"
        },
        "id": "wt9uyV6BQxky",
        "outputId": "5168f25e-8313-4c89-9ecd-7022fb80d1ed"
      },
      "execution_count": 3,
      "outputs": [
        {
          "output_type": "stream",
          "name": "stdout",
          "text": [
            "Completed: 1000 samples, (4,) hidden layers\n",
            "Train error: 0.2488\n",
            "Validation error: 0.2\n",
            "Execution time: 0.13 seconds\n",
            "----------------------------------------\n",
            "Completed: 10000 samples, (4,) hidden layers\n",
            "Train error: 0.009\n",
            "Validation error: 0.0125\n",
            "Execution time: 0.57 seconds\n",
            "----------------------------------------\n",
            "Completed: 100000 samples, (4,) hidden layers\n",
            "Train error: 0.0005\n",
            "Validation error: 0.0006\n",
            "Execution time: 3.56 seconds\n",
            "----------------------------------------\n",
            "Completed: 1000 samples, (4, 4) hidden layers\n",
            "Train error: 0.2488\n",
            "Validation error: 0.195\n",
            "Execution time: 0.03 seconds\n",
            "----------------------------------------\n",
            "Completed: 10000 samples, (4, 4) hidden layers\n",
            "Train error: 0.2385\n",
            "Validation error: 0.252\n",
            "Execution time: 0.14 seconds\n",
            "----------------------------------------\n",
            "Completed: 100000 samples, (4, 4) hidden layers\n",
            "Train error: 0.001\n",
            "Validation error: 0.0012\n",
            "Execution time: 2.04 seconds\n",
            "----------------------------------------\n",
            "\n",
            "Results Table:\n",
            "Data size | Configuration | Training error | Validation error | Time of execution\n",
            "--------------------------------------------------------------------------------\n",
            "1000 | 1 hidden layer 4 nodes | 0.2488 | 0.2 | 0.13 sec\n",
            "10000 | 1 hidden layer 4 nodes | 0.009 | 0.0125 | 0.57 sec\n",
            "100000 | 1 hidden layer 4 nodes | 0.0005 | 0.0006 | 3.56 sec\n",
            "1000 | 2 hidden layers of 4 nodes each | 0.2488 | 0.195 | 0.03 sec\n",
            "10000 | 2 hidden layers of 4 nodes each | 0.2385 | 0.252 | 0.14 sec\n",
            "100000 | 2 hidden layers of 4 nodes each | 0.001 | 0.0012 | 2.04 sec\n"
          ]
        }
      ]
    }
  ]
}